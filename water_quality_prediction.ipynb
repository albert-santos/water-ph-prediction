{
 "cells": [
  {
   "cell_type": "markdown",
   "metadata": {},
   "source": [
    "## O Dataset Water Metrics "
   ]
  },
  {
   "cell_type": "markdown",
   "metadata": {},
   "source": [
    "* Importa bibliotecas necessárias"
   ]
  },
  {
   "cell_type": "code",
   "execution_count": 56,
   "metadata": {},
   "outputs": [],
   "source": [
    "import pandas as pd\n",
    "import numpy as np \n",
    "import sklearn\n",
    "import random\n",
    "\n",
    "from sklearn.model_selection import GridSearchCV\n",
    "from sklearn.metrics import mean_absolute_percentage_error\n",
    "from sklearn.metrics import mean_squared_error\n",
    "from sklearn.metrics import mean_absolute_error"
   ]
  },
  {
   "cell_type": "markdown",
   "metadata": {},
   "source": [
    "* Define o seed para o gerador de números aleatórios"
   ]
  },
  {
   "cell_type": "code",
   "execution_count": 57,
   "metadata": {},
   "outputs": [],
   "source": [
    "random.seed(42)"
   ]
  },
  {
   "cell_type": "markdown",
   "metadata": {},
   "source": [
    "* Importa o dataset"
   ]
  },
  {
   "cell_type": "code",
   "execution_count": 58,
   "metadata": {},
   "outputs": [],
   "source": [
    "original_dataset = pd.read_csv('water_metrics_embrapa.csv', delimiter=',')"
   ]
  },
  {
   "cell_type": "markdown",
   "metadata": {},
   "source": [
    "* Exibe as 5 primeiras amostras do dataset"
   ]
  },
  {
   "cell_type": "code",
   "execution_count": 59,
   "metadata": {},
   "outputs": [
    {
     "data": {
      "text/html": [
       "<div>\n",
       "<style scoped>\n",
       "    .dataframe tbody tr th:only-of-type {\n",
       "        vertical-align: middle;\n",
       "    }\n",
       "\n",
       "    .dataframe tbody tr th {\n",
       "        vertical-align: top;\n",
       "    }\n",
       "\n",
       "    .dataframe thead th {\n",
       "        text-align: right;\n",
       "    }\n",
       "</style>\n",
       "<table border=\"1\" class=\"dataframe\">\n",
       "  <thead>\n",
       "    <tr style=\"text-align: right;\">\n",
       "      <th></th>\n",
       "      <th>Data Coleta</th>\n",
       "      <th>Amostra</th>\n",
       "      <th>Produtor</th>\n",
       "      <th>Viveiro</th>\n",
       "      <th>T(ºC)</th>\n",
       "      <th>pH</th>\n",
       "      <th>ORP (mv)</th>\n",
       "      <th>Condutividade (mS/cm)</th>\n",
       "      <th>Turbidez (ntu)</th>\n",
       "      <th>OD (mg/L)</th>\n",
       "      <th>OD %</th>\n",
       "      <th>TDS</th>\n",
       "      <th>Salinidade %</th>\n",
       "      <th>Cidade</th>\n",
       "      <th>Estado</th>\n",
       "    </tr>\n",
       "  </thead>\n",
       "  <tbody>\n",
       "    <tr>\n",
       "      <th>0</th>\n",
       "      <td>03-05-2016</td>\n",
       "      <td>B1E</td>\n",
       "      <td>B</td>\n",
       "      <td>Viveiro 1</td>\n",
       "      <td>19.10</td>\n",
       "      <td>7.44</td>\n",
       "      <td>355.0</td>\n",
       "      <td>0.05</td>\n",
       "      <td>18.3</td>\n",
       "      <td>7.90</td>\n",
       "      <td>87.8</td>\n",
       "      <td>0.03</td>\n",
       "      <td>0.0</td>\n",
       "      <td>MOGI MIRIM</td>\n",
       "      <td>SÃO PAULO</td>\n",
       "    </tr>\n",
       "    <tr>\n",
       "      <th>1</th>\n",
       "      <td>03-05-2016</td>\n",
       "      <td>B1M</td>\n",
       "      <td>B</td>\n",
       "      <td>Viveiro 1</td>\n",
       "      <td>19.37</td>\n",
       "      <td>7.42</td>\n",
       "      <td>355.0</td>\n",
       "      <td>0.05</td>\n",
       "      <td>19.5</td>\n",
       "      <td>7.75</td>\n",
       "      <td>86.6</td>\n",
       "      <td>0.03</td>\n",
       "      <td>0.0</td>\n",
       "      <td>MOGI MIRIM</td>\n",
       "      <td>SÃO PAULO</td>\n",
       "    </tr>\n",
       "    <tr>\n",
       "      <th>2</th>\n",
       "      <td>03-05-2016</td>\n",
       "      <td>B1S</td>\n",
       "      <td>B</td>\n",
       "      <td>Viveiro 1</td>\n",
       "      <td>19.98</td>\n",
       "      <td>7.43</td>\n",
       "      <td>351.0</td>\n",
       "      <td>0.05</td>\n",
       "      <td>13.1</td>\n",
       "      <td>6.52</td>\n",
       "      <td>73.7</td>\n",
       "      <td>0.03</td>\n",
       "      <td>0.0</td>\n",
       "      <td>MOGI MIRIM</td>\n",
       "      <td>SÃO PAULO</td>\n",
       "    </tr>\n",
       "    <tr>\n",
       "      <th>3</th>\n",
       "      <td>03-05-2016</td>\n",
       "      <td>B2E</td>\n",
       "      <td>B</td>\n",
       "      <td>Viveiro 2</td>\n",
       "      <td>18.97</td>\n",
       "      <td>7.20</td>\n",
       "      <td>325.0</td>\n",
       "      <td>0.05</td>\n",
       "      <td>38.0</td>\n",
       "      <td>7.56</td>\n",
       "      <td>83.8</td>\n",
       "      <td>0.03</td>\n",
       "      <td>0.0</td>\n",
       "      <td>MOGI MIRIM</td>\n",
       "      <td>SÃO PAULO</td>\n",
       "    </tr>\n",
       "    <tr>\n",
       "      <th>4</th>\n",
       "      <td>03-05-2016</td>\n",
       "      <td>B2M</td>\n",
       "      <td>B</td>\n",
       "      <td>Viveiro 2</td>\n",
       "      <td>19.38</td>\n",
       "      <td>7.35</td>\n",
       "      <td>342.0</td>\n",
       "      <td>0.05</td>\n",
       "      <td>32.5</td>\n",
       "      <td>7.33</td>\n",
       "      <td>81.9</td>\n",
       "      <td>0.03</td>\n",
       "      <td>0.0</td>\n",
       "      <td>MOGI MIRIM</td>\n",
       "      <td>SÃO PAULO</td>\n",
       "    </tr>\n",
       "  </tbody>\n",
       "</table>\n",
       "</div>"
      ],
      "text/plain": [
       "  Data Coleta Amostra Produtor    Viveiro  T(ºC)    pH  ORP (mv)  \\\n",
       "0  03-05-2016     B1E        B  Viveiro 1  19.10  7.44     355.0   \n",
       "1  03-05-2016     B1M        B  Viveiro 1  19.37  7.42     355.0   \n",
       "2  03-05-2016     B1S        B  Viveiro 1  19.98  7.43     351.0   \n",
       "3  03-05-2016     B2E        B  Viveiro 2  18.97  7.20     325.0   \n",
       "4  03-05-2016     B2M        B  Viveiro 2  19.38  7.35     342.0   \n",
       "\n",
       "   Condutividade (mS/cm)  Turbidez (ntu)  OD (mg/L)  OD %   TDS  Salinidade %  \\\n",
       "0                   0.05            18.3       7.90  87.8  0.03           0.0   \n",
       "1                   0.05            19.5       7.75  86.6  0.03           0.0   \n",
       "2                   0.05            13.1       6.52  73.7  0.03           0.0   \n",
       "3                   0.05            38.0       7.56  83.8  0.03           0.0   \n",
       "4                   0.05            32.5       7.33  81.9  0.03           0.0   \n",
       "\n",
       "       Cidade     Estado  \n",
       "0  MOGI MIRIM  SÃO PAULO  \n",
       "1  MOGI MIRIM  SÃO PAULO  \n",
       "2  MOGI MIRIM  SÃO PAULO  \n",
       "3  MOGI MIRIM  SÃO PAULO  \n",
       "4  MOGI MIRIM  SÃO PAULO  "
      ]
     },
     "execution_count": 59,
     "metadata": {},
     "output_type": "execute_result"
    }
   ],
   "source": [
    "original_dataset.head()"
   ]
  },
  {
   "cell_type": "markdown",
   "metadata": {},
   "source": [
    "* Informa o tipo de variável de cada coluna do dataset"
   ]
  },
  {
   "cell_type": "code",
   "execution_count": 60,
   "metadata": {},
   "outputs": [
    {
     "name": "stdout",
     "output_type": "stream",
     "text": [
      "<class 'pandas.core.frame.DataFrame'>\n",
      "RangeIndex: 169 entries, 0 to 168\n",
      "Data columns (total 15 columns):\n",
      " #   Column                 Non-Null Count  Dtype  \n",
      "---  ------                 --------------  -----  \n",
      " 0   Data Coleta            169 non-null    object \n",
      " 1   Amostra                169 non-null    object \n",
      " 2   Produtor               169 non-null    object \n",
      " 3   Viveiro                169 non-null    object \n",
      " 4   T(ºC)                  169 non-null    float64\n",
      " 5   pH                     169 non-null    float64\n",
      " 6   ORP (mv)               169 non-null    float64\n",
      " 7   Condutividade (mS/cm)  169 non-null    float64\n",
      " 8   Turbidez (ntu)         169 non-null    float64\n",
      " 9   OD (mg/L)              169 non-null    float64\n",
      " 10  OD %                   169 non-null    float64\n",
      " 11  TDS                    169 non-null    float64\n",
      " 12  Salinidade %           169 non-null    float64\n",
      " 13  Cidade                 169 non-null    object \n",
      " 14  Estado                 169 non-null    object \n",
      "dtypes: float64(9), object(6)\n",
      "memory usage: 19.9+ KB\n"
     ]
    }
   ],
   "source": [
    "original_dataset.info()"
   ]
  },
  {
   "cell_type": "markdown",
   "metadata": {},
   "source": [
    "* Obtem medidas das features numéricas"
   ]
  },
  {
   "cell_type": "code",
   "execution_count": 61,
   "metadata": {},
   "outputs": [
    {
     "data": {
      "text/html": [
       "<div>\n",
       "<style scoped>\n",
       "    .dataframe tbody tr th:only-of-type {\n",
       "        vertical-align: middle;\n",
       "    }\n",
       "\n",
       "    .dataframe tbody tr th {\n",
       "        vertical-align: top;\n",
       "    }\n",
       "\n",
       "    .dataframe thead th {\n",
       "        text-align: right;\n",
       "    }\n",
       "</style>\n",
       "<table border=\"1\" class=\"dataframe\">\n",
       "  <thead>\n",
       "    <tr style=\"text-align: right;\">\n",
       "      <th></th>\n",
       "      <th>Data Coleta</th>\n",
       "      <th>Amostra</th>\n",
       "      <th>Produtor</th>\n",
       "      <th>Viveiro</th>\n",
       "      <th>T(ºC)</th>\n",
       "      <th>pH</th>\n",
       "      <th>ORP (mv)</th>\n",
       "      <th>Condutividade (mS/cm)</th>\n",
       "      <th>Turbidez (ntu)</th>\n",
       "      <th>OD (mg/L)</th>\n",
       "      <th>OD %</th>\n",
       "      <th>TDS</th>\n",
       "      <th>Salinidade %</th>\n",
       "      <th>Cidade</th>\n",
       "      <th>Estado</th>\n",
       "    </tr>\n",
       "  </thead>\n",
       "  <tbody>\n",
       "    <tr>\n",
       "      <th>count</th>\n",
       "      <td>169</td>\n",
       "      <td>169</td>\n",
       "      <td>169</td>\n",
       "      <td>169</td>\n",
       "      <td>169.000000</td>\n",
       "      <td>169.000000</td>\n",
       "      <td>169.000000</td>\n",
       "      <td>169.000000</td>\n",
       "      <td>169.000000</td>\n",
       "      <td>169.000000</td>\n",
       "      <td>169.000000</td>\n",
       "      <td>169.000000</td>\n",
       "      <td>169.000000</td>\n",
       "      <td>169</td>\n",
       "      <td>169</td>\n",
       "    </tr>\n",
       "    <tr>\n",
       "      <th>unique</th>\n",
       "      <td>13</td>\n",
       "      <td>24</td>\n",
       "      <td>4</td>\n",
       "      <td>2</td>\n",
       "      <td>NaN</td>\n",
       "      <td>NaN</td>\n",
       "      <td>NaN</td>\n",
       "      <td>NaN</td>\n",
       "      <td>NaN</td>\n",
       "      <td>NaN</td>\n",
       "      <td>NaN</td>\n",
       "      <td>NaN</td>\n",
       "      <td>NaN</td>\n",
       "      <td>3</td>\n",
       "      <td>1</td>\n",
       "    </tr>\n",
       "    <tr>\n",
       "      <th>top</th>\n",
       "      <td>03-05-2016</td>\n",
       "      <td>C2M</td>\n",
       "      <td>C</td>\n",
       "      <td>Viveiro 2</td>\n",
       "      <td>NaN</td>\n",
       "      <td>NaN</td>\n",
       "      <td>NaN</td>\n",
       "      <td>NaN</td>\n",
       "      <td>NaN</td>\n",
       "      <td>NaN</td>\n",
       "      <td>NaN</td>\n",
       "      <td>NaN</td>\n",
       "      <td>NaN</td>\n",
       "      <td>ITAPIRA</td>\n",
       "      <td>SÃO PAULO</td>\n",
       "    </tr>\n",
       "    <tr>\n",
       "      <th>freq</th>\n",
       "      <td>24</td>\n",
       "      <td>8</td>\n",
       "      <td>43</td>\n",
       "      <td>85</td>\n",
       "      <td>NaN</td>\n",
       "      <td>NaN</td>\n",
       "      <td>NaN</td>\n",
       "      <td>NaN</td>\n",
       "      <td>NaN</td>\n",
       "      <td>NaN</td>\n",
       "      <td>NaN</td>\n",
       "      <td>NaN</td>\n",
       "      <td>NaN</td>\n",
       "      <td>85</td>\n",
       "      <td>169</td>\n",
       "    </tr>\n",
       "    <tr>\n",
       "      <th>mean</th>\n",
       "      <td>NaN</td>\n",
       "      <td>NaN</td>\n",
       "      <td>NaN</td>\n",
       "      <td>NaN</td>\n",
       "      <td>26.805858</td>\n",
       "      <td>6.985976</td>\n",
       "      <td>312.177515</td>\n",
       "      <td>0.060947</td>\n",
       "      <td>46.542012</td>\n",
       "      <td>5.685503</td>\n",
       "      <td>71.662130</td>\n",
       "      <td>0.039467</td>\n",
       "      <td>0.002485</td>\n",
       "      <td>NaN</td>\n",
       "      <td>NaN</td>\n",
       "    </tr>\n",
       "    <tr>\n",
       "      <th>std</th>\n",
       "      <td>NaN</td>\n",
       "      <td>NaN</td>\n",
       "      <td>NaN</td>\n",
       "      <td>NaN</td>\n",
       "      <td>3.410101</td>\n",
       "      <td>0.713310</td>\n",
       "      <td>47.628690</td>\n",
       "      <td>0.043497</td>\n",
       "      <td>34.457705</td>\n",
       "      <td>1.683798</td>\n",
       "      <td>20.457499</td>\n",
       "      <td>0.029078</td>\n",
       "      <td>0.004334</td>\n",
       "      <td>NaN</td>\n",
       "      <td>NaN</td>\n",
       "    </tr>\n",
       "    <tr>\n",
       "      <th>min</th>\n",
       "      <td>NaN</td>\n",
       "      <td>NaN</td>\n",
       "      <td>NaN</td>\n",
       "      <td>NaN</td>\n",
       "      <td>18.970000</td>\n",
       "      <td>5.710000</td>\n",
       "      <td>210.000000</td>\n",
       "      <td>0.010000</td>\n",
       "      <td>6.300000</td>\n",
       "      <td>2.410000</td>\n",
       "      <td>31.900000</td>\n",
       "      <td>0.000000</td>\n",
       "      <td>0.000000</td>\n",
       "      <td>NaN</td>\n",
       "      <td>NaN</td>\n",
       "    </tr>\n",
       "    <tr>\n",
       "      <th>25%</th>\n",
       "      <td>NaN</td>\n",
       "      <td>NaN</td>\n",
       "      <td>NaN</td>\n",
       "      <td>NaN</td>\n",
       "      <td>25.630000</td>\n",
       "      <td>6.380000</td>\n",
       "      <td>276.000000</td>\n",
       "      <td>0.020000</td>\n",
       "      <td>17.400000</td>\n",
       "      <td>4.330000</td>\n",
       "      <td>54.500000</td>\n",
       "      <td>0.010000</td>\n",
       "      <td>0.000000</td>\n",
       "      <td>NaN</td>\n",
       "      <td>NaN</td>\n",
       "    </tr>\n",
       "    <tr>\n",
       "      <th>50%</th>\n",
       "      <td>NaN</td>\n",
       "      <td>NaN</td>\n",
       "      <td>NaN</td>\n",
       "      <td>NaN</td>\n",
       "      <td>27.350000</td>\n",
       "      <td>7.050000</td>\n",
       "      <td>312.000000</td>\n",
       "      <td>0.050000</td>\n",
       "      <td>40.700000</td>\n",
       "      <td>5.790000</td>\n",
       "      <td>74.800000</td>\n",
       "      <td>0.030000</td>\n",
       "      <td>0.000000</td>\n",
       "      <td>NaN</td>\n",
       "      <td>NaN</td>\n",
       "    </tr>\n",
       "    <tr>\n",
       "      <th>75%</th>\n",
       "      <td>NaN</td>\n",
       "      <td>NaN</td>\n",
       "      <td>NaN</td>\n",
       "      <td>NaN</td>\n",
       "      <td>28.510000</td>\n",
       "      <td>7.420000</td>\n",
       "      <td>348.000000</td>\n",
       "      <td>0.100000</td>\n",
       "      <td>61.600000</td>\n",
       "      <td>7.240000</td>\n",
       "      <td>88.300000</td>\n",
       "      <td>0.070000</td>\n",
       "      <td>0.000000</td>\n",
       "      <td>NaN</td>\n",
       "      <td>NaN</td>\n",
       "    </tr>\n",
       "    <tr>\n",
       "      <th>max</th>\n",
       "      <td>NaN</td>\n",
       "      <td>NaN</td>\n",
       "      <td>NaN</td>\n",
       "      <td>NaN</td>\n",
       "      <td>34.690000</td>\n",
       "      <td>9.180000</td>\n",
       "      <td>429.000000</td>\n",
       "      <td>0.160000</td>\n",
       "      <td>213.000000</td>\n",
       "      <td>9.170000</td>\n",
       "      <td>116.800000</td>\n",
       "      <td>0.100000</td>\n",
       "      <td>0.010000</td>\n",
       "      <td>NaN</td>\n",
       "      <td>NaN</td>\n",
       "    </tr>\n",
       "  </tbody>\n",
       "</table>\n",
       "</div>"
      ],
      "text/plain": [
       "       Data Coleta Amostra Produtor    Viveiro       T(ºC)          pH  \\\n",
       "count          169     169      169        169  169.000000  169.000000   \n",
       "unique          13      24        4          2         NaN         NaN   \n",
       "top     03-05-2016     C2M        C  Viveiro 2         NaN         NaN   \n",
       "freq            24       8       43         85         NaN         NaN   \n",
       "mean           NaN     NaN      NaN        NaN   26.805858    6.985976   \n",
       "std            NaN     NaN      NaN        NaN    3.410101    0.713310   \n",
       "min            NaN     NaN      NaN        NaN   18.970000    5.710000   \n",
       "25%            NaN     NaN      NaN        NaN   25.630000    6.380000   \n",
       "50%            NaN     NaN      NaN        NaN   27.350000    7.050000   \n",
       "75%            NaN     NaN      NaN        NaN   28.510000    7.420000   \n",
       "max            NaN     NaN      NaN        NaN   34.690000    9.180000   \n",
       "\n",
       "          ORP (mv)  Condutividade (mS/cm)  Turbidez (ntu)   OD (mg/L)  \\\n",
       "count   169.000000             169.000000      169.000000  169.000000   \n",
       "unique         NaN                    NaN             NaN         NaN   \n",
       "top            NaN                    NaN             NaN         NaN   \n",
       "freq           NaN                    NaN             NaN         NaN   \n",
       "mean    312.177515               0.060947       46.542012    5.685503   \n",
       "std      47.628690               0.043497       34.457705    1.683798   \n",
       "min     210.000000               0.010000        6.300000    2.410000   \n",
       "25%     276.000000               0.020000       17.400000    4.330000   \n",
       "50%     312.000000               0.050000       40.700000    5.790000   \n",
       "75%     348.000000               0.100000       61.600000    7.240000   \n",
       "max     429.000000               0.160000      213.000000    9.170000   \n",
       "\n",
       "              OD %         TDS  Salinidade %   Cidade     Estado  \n",
       "count   169.000000  169.000000    169.000000      169        169  \n",
       "unique         NaN         NaN           NaN        3          1  \n",
       "top            NaN         NaN           NaN  ITAPIRA  SÃO PAULO  \n",
       "freq           NaN         NaN           NaN       85        169  \n",
       "mean     71.662130    0.039467      0.002485      NaN        NaN  \n",
       "std      20.457499    0.029078      0.004334      NaN        NaN  \n",
       "min      31.900000    0.000000      0.000000      NaN        NaN  \n",
       "25%      54.500000    0.010000      0.000000      NaN        NaN  \n",
       "50%      74.800000    0.030000      0.000000      NaN        NaN  \n",
       "75%      88.300000    0.070000      0.000000      NaN        NaN  \n",
       "max     116.800000    0.100000      0.010000      NaN        NaN  "
      ]
     },
     "execution_count": 61,
     "metadata": {},
     "output_type": "execute_result"
    }
   ],
   "source": [
    "original_dataset.describe(include='all')"
   ]
  },
  {
   "cell_type": "markdown",
   "metadata": {},
   "source": [
    "* Conta os valores faltantes em cada coluna"
   ]
  },
  {
   "cell_type": "code",
   "execution_count": 62,
   "metadata": {},
   "outputs": [
    {
     "name": "stdout",
     "output_type": "stream",
     "text": [
      "Data Coleta              0\n",
      "Amostra                  0\n",
      "Produtor                 0\n",
      "Viveiro                  0\n",
      "T(ºC)                    0\n",
      "pH                       0\n",
      "ORP (mv)                 0\n",
      "Condutividade (mS/cm)    0\n",
      "Turbidez (ntu)           0\n",
      "OD (mg/L)                0\n",
      "OD %                     0\n",
      "TDS                      0\n",
      "Salinidade %             0\n",
      "Cidade                   0\n",
      "Estado                   0\n",
      "dtype: int64\n"
     ]
    }
   ],
   "source": [
    "print(original_dataset.isna().sum())"
   ]
  },
  {
   "cell_type": "markdown",
   "metadata": {},
   "source": [
    "* Exibe as dimensões do dataset"
   ]
  },
  {
   "cell_type": "code",
   "execution_count": 63,
   "metadata": {},
   "outputs": [
    {
     "data": {
      "text/plain": [
       "(169, 15)"
      ]
     },
     "execution_count": 63,
     "metadata": {},
     "output_type": "execute_result"
    }
   ],
   "source": [
    "original_dataset.shape"
   ]
  },
  {
   "cell_type": "markdown",
   "metadata": {},
   "source": [
    "* Remove colunas que não serão utlizadas"
   ]
  },
  {
   "cell_type": "code",
   "execution_count": 64,
   "metadata": {},
   "outputs": [],
   "source": [
    "dataset = original_dataset.drop(['Data Coleta', 'Amostra', 'Produtor', 'Viveiro', 'Estado', 'Cidade'], axis=1)"
   ]
  },
  {
   "cell_type": "markdown",
   "metadata": {},
   "source": [
    "* Exibe as 5 primeiras amostras do dataset após a remoção das colunas que não serão utlizadas"
   ]
  },
  {
   "cell_type": "code",
   "execution_count": 65,
   "metadata": {},
   "outputs": [
    {
     "data": {
      "text/html": [
       "<div>\n",
       "<style scoped>\n",
       "    .dataframe tbody tr th:only-of-type {\n",
       "        vertical-align: middle;\n",
       "    }\n",
       "\n",
       "    .dataframe tbody tr th {\n",
       "        vertical-align: top;\n",
       "    }\n",
       "\n",
       "    .dataframe thead th {\n",
       "        text-align: right;\n",
       "    }\n",
       "</style>\n",
       "<table border=\"1\" class=\"dataframe\">\n",
       "  <thead>\n",
       "    <tr style=\"text-align: right;\">\n",
       "      <th></th>\n",
       "      <th>T(ºC)</th>\n",
       "      <th>pH</th>\n",
       "      <th>ORP (mv)</th>\n",
       "      <th>Condutividade (mS/cm)</th>\n",
       "      <th>Turbidez (ntu)</th>\n",
       "      <th>OD (mg/L)</th>\n",
       "      <th>OD %</th>\n",
       "      <th>TDS</th>\n",
       "      <th>Salinidade %</th>\n",
       "    </tr>\n",
       "  </thead>\n",
       "  <tbody>\n",
       "    <tr>\n",
       "      <th>0</th>\n",
       "      <td>19.10</td>\n",
       "      <td>7.44</td>\n",
       "      <td>355.0</td>\n",
       "      <td>0.05</td>\n",
       "      <td>18.3</td>\n",
       "      <td>7.90</td>\n",
       "      <td>87.8</td>\n",
       "      <td>0.03</td>\n",
       "      <td>0.0</td>\n",
       "    </tr>\n",
       "    <tr>\n",
       "      <th>1</th>\n",
       "      <td>19.37</td>\n",
       "      <td>7.42</td>\n",
       "      <td>355.0</td>\n",
       "      <td>0.05</td>\n",
       "      <td>19.5</td>\n",
       "      <td>7.75</td>\n",
       "      <td>86.6</td>\n",
       "      <td>0.03</td>\n",
       "      <td>0.0</td>\n",
       "    </tr>\n",
       "    <tr>\n",
       "      <th>2</th>\n",
       "      <td>19.98</td>\n",
       "      <td>7.43</td>\n",
       "      <td>351.0</td>\n",
       "      <td>0.05</td>\n",
       "      <td>13.1</td>\n",
       "      <td>6.52</td>\n",
       "      <td>73.7</td>\n",
       "      <td>0.03</td>\n",
       "      <td>0.0</td>\n",
       "    </tr>\n",
       "    <tr>\n",
       "      <th>3</th>\n",
       "      <td>18.97</td>\n",
       "      <td>7.20</td>\n",
       "      <td>325.0</td>\n",
       "      <td>0.05</td>\n",
       "      <td>38.0</td>\n",
       "      <td>7.56</td>\n",
       "      <td>83.8</td>\n",
       "      <td>0.03</td>\n",
       "      <td>0.0</td>\n",
       "    </tr>\n",
       "    <tr>\n",
       "      <th>4</th>\n",
       "      <td>19.38</td>\n",
       "      <td>7.35</td>\n",
       "      <td>342.0</td>\n",
       "      <td>0.05</td>\n",
       "      <td>32.5</td>\n",
       "      <td>7.33</td>\n",
       "      <td>81.9</td>\n",
       "      <td>0.03</td>\n",
       "      <td>0.0</td>\n",
       "    </tr>\n",
       "  </tbody>\n",
       "</table>\n",
       "</div>"
      ],
      "text/plain": [
       "   T(ºC)    pH  ORP (mv)  Condutividade (mS/cm)  Turbidez (ntu)  OD (mg/L)  \\\n",
       "0  19.10  7.44     355.0                   0.05            18.3       7.90   \n",
       "1  19.37  7.42     355.0                   0.05            19.5       7.75   \n",
       "2  19.98  7.43     351.0                   0.05            13.1       6.52   \n",
       "3  18.97  7.20     325.0                   0.05            38.0       7.56   \n",
       "4  19.38  7.35     342.0                   0.05            32.5       7.33   \n",
       "\n",
       "   OD %   TDS  Salinidade %  \n",
       "0  87.8  0.03           0.0  \n",
       "1  86.6  0.03           0.0  \n",
       "2  73.7  0.03           0.0  \n",
       "3  83.8  0.03           0.0  \n",
       "4  81.9  0.03           0.0  "
      ]
     },
     "execution_count": 65,
     "metadata": {},
     "output_type": "execute_result"
    }
   ],
   "source": [
    "dataset.head()"
   ]
  },
  {
   "cell_type": "markdown",
   "metadata": {},
   "source": [
    "* Separa features e labels\n",
    "    * pH é a coluna alvo"
   ]
  },
  {
   "cell_type": "code",
   "execution_count": 66,
   "metadata": {},
   "outputs": [],
   "source": [
    "features = dataset.drop(['pH'], axis=1)\n",
    "features = features.to_numpy()"
   ]
  },
  {
   "cell_type": "code",
   "execution_count": 67,
   "metadata": {},
   "outputs": [],
   "source": [
    "labels = dataset['pH']\n",
    "labels = labels.to_numpy()"
   ]
  },
  {
   "cell_type": "markdown",
   "metadata": {},
   "source": [
    "* Divide o dataset em treino e teste na proporção 75% / 25%"
   ]
  },
  {
   "cell_type": "code",
   "execution_count": 68,
   "metadata": {},
   "outputs": [],
   "source": [
    "from sklearn.model_selection import train_test_split\n",
    "\n",
    "X_train, X_test, y_train, y_test = train_test_split(features, labels, test_size=0.25, random_state=42)"
   ]
  },
  {
   "cell_type": "code",
   "execution_count": 69,
   "metadata": {},
   "outputs": [
    {
     "data": {
      "text/plain": [
       "(126, 8)"
      ]
     },
     "execution_count": 69,
     "metadata": {},
     "output_type": "execute_result"
    }
   ],
   "source": [
    "X_train.shape"
   ]
  },
  {
   "cell_type": "code",
   "execution_count": 70,
   "metadata": {},
   "outputs": [
    {
     "data": {
      "text/plain": [
       "(43, 8)"
      ]
     },
     "execution_count": 70,
     "metadata": {},
     "output_type": "execute_result"
    }
   ],
   "source": [
    "X_test.shape"
   ]
  },
  {
   "cell_type": "markdown",
   "metadata": {},
   "source": [
    "## Normalização dos dados"
   ]
  },
  {
   "cell_type": "markdown",
   "metadata": {},
   "source": [
    "Utiliza a normalização com valores centrados na média e desvio padrão igual a 1"
   ]
  },
  {
   "cell_type": "code",
   "execution_count": 71,
   "metadata": {},
   "outputs": [],
   "source": [
    "from sklearn.preprocessing import StandardScaler\n",
    "\n",
    "scaler = StandardScaler()\n",
    "X_train = scaler.fit_transform(X_train)\n",
    "X_test = scaler.transform(X_test)"
   ]
  },
  {
   "cell_type": "code",
   "execution_count": 72,
   "metadata": {},
   "outputs": [
    {
     "data": {
      "text/plain": [
       "array([-2.47333018e-15,  2.33499287e-16,  2.13585763e-15, -3.57297965e-16,\n",
       "       -1.17718886e-15,  3.48927236e-16,  1.86446978e-15, -2.99583991e-16])"
      ]
     },
     "execution_count": 72,
     "metadata": {},
     "output_type": "execute_result"
    }
   ],
   "source": [
    "# Média de cada coluna do conjunto de treino após a normalização\n",
    "np.mean(X_train, axis=0)"
   ]
  },
  {
   "cell_type": "code",
   "execution_count": 73,
   "metadata": {},
   "outputs": [
    {
     "data": {
      "text/plain": [
       "array([1., 1., 1., 1., 1., 1., 1., 1.])"
      ]
     },
     "execution_count": 73,
     "metadata": {},
     "output_type": "execute_result"
    }
   ],
   "source": [
    "# Desvio padrão de cada coluna do conjunto de treino após a normalização\n",
    "np.std(X_train, axis=0)"
   ]
  },
  {
   "cell_type": "markdown",
   "metadata": {},
   "source": [
    "## Modelos de Machine Learning"
   ]
  },
  {
   "cell_type": "markdown",
   "metadata": {},
   "source": [
    "* Dicionários para armazenar a performace dos modelos"
   ]
  },
  {
   "cell_type": "code",
   "execution_count": 74,
   "metadata": {},
   "outputs": [],
   "source": [
    "MAE_dict = dict()\n",
    "MAPE_dict = dict()\n",
    "RMSE_dict = dict()"
   ]
  },
  {
   "cell_type": "markdown",
   "metadata": {},
   "source": [
    "## MLP Regressor"
   ]
  },
  {
   "cell_type": "markdown",
   "metadata": {},
   "source": [
    "* Importa o modelo"
   ]
  },
  {
   "cell_type": "code",
   "execution_count": 75,
   "metadata": {},
   "outputs": [],
   "source": [
    "from sklearn.neural_network import MLPRegressor"
   ]
  },
  {
   "cell_type": "markdown",
   "metadata": {},
   "source": [
    "* Utiliza o grid search para encontrar os melhores parâmetros para o modelo\n",
    "* A métrica para definir os melhores parâmetros é a MAPE (Mean Absolute Percentage Error)\n",
    "* Utiliza k-fold cross validation com k=3"
   ]
  },
  {
   "cell_type": "code",
   "execution_count": 76,
   "metadata": {},
   "outputs": [
    {
     "data": {
      "text/html": [
       "<style>#sk-container-id-7 {color: black;background-color: white;}#sk-container-id-7 pre{padding: 0;}#sk-container-id-7 div.sk-toggleable {background-color: white;}#sk-container-id-7 label.sk-toggleable__label {cursor: pointer;display: block;width: 100%;margin-bottom: 0;padding: 0.3em;box-sizing: border-box;text-align: center;}#sk-container-id-7 label.sk-toggleable__label-arrow:before {content: \"▸\";float: left;margin-right: 0.25em;color: #696969;}#sk-container-id-7 label.sk-toggleable__label-arrow:hover:before {color: black;}#sk-container-id-7 div.sk-estimator:hover label.sk-toggleable__label-arrow:before {color: black;}#sk-container-id-7 div.sk-toggleable__content {max-height: 0;max-width: 0;overflow: hidden;text-align: left;background-color: #f0f8ff;}#sk-container-id-7 div.sk-toggleable__content pre {margin: 0.2em;color: black;border-radius: 0.25em;background-color: #f0f8ff;}#sk-container-id-7 input.sk-toggleable__control:checked~div.sk-toggleable__content {max-height: 200px;max-width: 100%;overflow: auto;}#sk-container-id-7 input.sk-toggleable__control:checked~label.sk-toggleable__label-arrow:before {content: \"▾\";}#sk-container-id-7 div.sk-estimator input.sk-toggleable__control:checked~label.sk-toggleable__label {background-color: #d4ebff;}#sk-container-id-7 div.sk-label input.sk-toggleable__control:checked~label.sk-toggleable__label {background-color: #d4ebff;}#sk-container-id-7 input.sk-hidden--visually {border: 0;clip: rect(1px 1px 1px 1px);clip: rect(1px, 1px, 1px, 1px);height: 1px;margin: -1px;overflow: hidden;padding: 0;position: absolute;width: 1px;}#sk-container-id-7 div.sk-estimator {font-family: monospace;background-color: #f0f8ff;border: 1px dotted black;border-radius: 0.25em;box-sizing: border-box;margin-bottom: 0.5em;}#sk-container-id-7 div.sk-estimator:hover {background-color: #d4ebff;}#sk-container-id-7 div.sk-parallel-item::after {content: \"\";width: 100%;border-bottom: 1px solid gray;flex-grow: 1;}#sk-container-id-7 div.sk-label:hover label.sk-toggleable__label {background-color: #d4ebff;}#sk-container-id-7 div.sk-serial::before {content: \"\";position: absolute;border-left: 1px solid gray;box-sizing: border-box;top: 0;bottom: 0;left: 50%;z-index: 0;}#sk-container-id-7 div.sk-serial {display: flex;flex-direction: column;align-items: center;background-color: white;padding-right: 0.2em;padding-left: 0.2em;position: relative;}#sk-container-id-7 div.sk-item {position: relative;z-index: 1;}#sk-container-id-7 div.sk-parallel {display: flex;align-items: stretch;justify-content: center;background-color: white;position: relative;}#sk-container-id-7 div.sk-item::before, #sk-container-id-7 div.sk-parallel-item::before {content: \"\";position: absolute;border-left: 1px solid gray;box-sizing: border-box;top: 0;bottom: 0;left: 50%;z-index: -1;}#sk-container-id-7 div.sk-parallel-item {display: flex;flex-direction: column;z-index: 1;position: relative;background-color: white;}#sk-container-id-7 div.sk-parallel-item:first-child::after {align-self: flex-end;width: 50%;}#sk-container-id-7 div.sk-parallel-item:last-child::after {align-self: flex-start;width: 50%;}#sk-container-id-7 div.sk-parallel-item:only-child::after {width: 0;}#sk-container-id-7 div.sk-dashed-wrapped {border: 1px dashed gray;margin: 0 0.4em 0.5em 0.4em;box-sizing: border-box;padding-bottom: 0.4em;background-color: white;}#sk-container-id-7 div.sk-label label {font-family: monospace;font-weight: bold;display: inline-block;line-height: 1.2em;}#sk-container-id-7 div.sk-label-container {text-align: center;}#sk-container-id-7 div.sk-container {/* jupyter's `normalize.less` sets `[hidden] { display: none; }` but bootstrap.min.css set `[hidden] { display: none !important; }` so we also need the `!important` here to be able to override the default hidden behavior on the sphinx rendered scikit-learn.org. See: https://github.com/scikit-learn/scikit-learn/issues/21755 */display: inline-block !important;position: relative;}#sk-container-id-7 div.sk-text-repr-fallback {display: none;}</style><div id=\"sk-container-id-7\" class=\"sk-top-container\"><div class=\"sk-text-repr-fallback\"><pre>GridSearchCV(cv=3, estimator=MLPRegressor(),\n",
       "             param_grid={&#x27;hidden_layer_sizes&#x27;: [8, 10, 15, 20, 25, 30, 35, 40,\n",
       "                                                45, 50, 60, 70, 80, 90, 100],\n",
       "                         &#x27;max_iter&#x27;: [10000], &#x27;random_state&#x27;: [42],\n",
       "                         &#x27;solver&#x27;: [&#x27;lbfgs&#x27;, &#x27;sgd&#x27;, &#x27;adam&#x27;]},\n",
       "             scoring=&#x27;neg_mean_absolute_percentage_error&#x27;)</pre><b>In a Jupyter environment, please rerun this cell to show the HTML representation or trust the notebook. <br />On GitHub, the HTML representation is unable to render, please try loading this page with nbviewer.org.</b></div><div class=\"sk-container\" hidden><div class=\"sk-item sk-dashed-wrapped\"><div class=\"sk-label-container\"><div class=\"sk-label sk-toggleable\"><input class=\"sk-toggleable__control sk-hidden--visually\" id=\"sk-estimator-id-19\" type=\"checkbox\" ><label for=\"sk-estimator-id-19\" class=\"sk-toggleable__label sk-toggleable__label-arrow\">GridSearchCV</label><div class=\"sk-toggleable__content\"><pre>GridSearchCV(cv=3, estimator=MLPRegressor(),\n",
       "             param_grid={&#x27;hidden_layer_sizes&#x27;: [8, 10, 15, 20, 25, 30, 35, 40,\n",
       "                                                45, 50, 60, 70, 80, 90, 100],\n",
       "                         &#x27;max_iter&#x27;: [10000], &#x27;random_state&#x27;: [42],\n",
       "                         &#x27;solver&#x27;: [&#x27;lbfgs&#x27;, &#x27;sgd&#x27;, &#x27;adam&#x27;]},\n",
       "             scoring=&#x27;neg_mean_absolute_percentage_error&#x27;)</pre></div></div></div><div class=\"sk-parallel\"><div class=\"sk-parallel-item\"><div class=\"sk-item\"><div class=\"sk-label-container\"><div class=\"sk-label sk-toggleable\"><input class=\"sk-toggleable__control sk-hidden--visually\" id=\"sk-estimator-id-20\" type=\"checkbox\" ><label for=\"sk-estimator-id-20\" class=\"sk-toggleable__label sk-toggleable__label-arrow\">estimator: MLPRegressor</label><div class=\"sk-toggleable__content\"><pre>MLPRegressor()</pre></div></div></div><div class=\"sk-serial\"><div class=\"sk-item\"><div class=\"sk-estimator sk-toggleable\"><input class=\"sk-toggleable__control sk-hidden--visually\" id=\"sk-estimator-id-21\" type=\"checkbox\" ><label for=\"sk-estimator-id-21\" class=\"sk-toggleable__label sk-toggleable__label-arrow\">MLPRegressor</label><div class=\"sk-toggleable__content\"><pre>MLPRegressor()</pre></div></div></div></div></div></div></div></div></div></div>"
      ],
      "text/plain": [
       "GridSearchCV(cv=3, estimator=MLPRegressor(),\n",
       "             param_grid={'hidden_layer_sizes': [8, 10, 15, 20, 25, 30, 35, 40,\n",
       "                                                45, 50, 60, 70, 80, 90, 100],\n",
       "                         'max_iter': [10000], 'random_state': [42],\n",
       "                         'solver': ['lbfgs', 'sgd', 'adam']},\n",
       "             scoring='neg_mean_absolute_percentage_error')"
      ]
     },
     "execution_count": 76,
     "metadata": {},
     "output_type": "execute_result"
    }
   ],
   "source": [
    "mlp = MLPRegressor()\n",
    "parameters = {'hidden_layer_sizes': [8, 10, 15, 20, 25, 30, 35, 40, 45, 50, 60, 70, 80, 90, 100], 'solver': ['lbfgs', 'sgd', 'adam'], 'random_state': [42], 'max_iter':[10000]}\n",
    "mlp_regressor = GridSearchCV(mlp, parameters, scoring = 'neg_mean_absolute_percentage_error', cv = 3)\n",
    "mlp_regressor.fit(X_train, y_train)"
   ]
  },
  {
   "cell_type": "markdown",
   "metadata": {},
   "source": [
    "* Exibe os melhores parâmetros"
   ]
  },
  {
   "cell_type": "code",
   "execution_count": 77,
   "metadata": {},
   "outputs": [
    {
     "name": "stdout",
     "output_type": "stream",
     "text": [
      "{'hidden_layer_sizes': 10, 'max_iter': 10000, 'random_state': 42, 'solver': 'lbfgs'}\n",
      "-0.03189832051674752\n"
     ]
    }
   ],
   "source": [
    "print(mlp_regressor.best_params_)\n",
    "print(mlp_regressor.best_score_)"
   ]
  },
  {
   "cell_type": "markdown",
   "metadata": {},
   "source": [
    "* Utliza o modelo já treinado para prever os valores de pH no conjunto de teste"
   ]
  },
  {
   "cell_type": "code",
   "execution_count": 78,
   "metadata": {},
   "outputs": [],
   "source": [
    "predict = mlp_regressor.predict(X_test)"
   ]
  },
  {
   "cell_type": "markdown",
   "metadata": {},
   "source": [
    "* Calcula e exibe as principais métricas em relação aos valores previstos no conjunto de teste"
   ]
  },
  {
   "cell_type": "code",
   "execution_count": 79,
   "metadata": {},
   "outputs": [
    {
     "name": "stdout",
     "output_type": "stream",
     "text": [
      "MAE: 0.20191903590938926\n",
      "MAPE: 0.028745637269660503\n",
      "MSE: 0.27881272290564507\n",
      "RMSE: 0.07773653445406002\n"
     ]
    }
   ],
   "source": [
    "MAE = mean_absolute_error(y_test, predict)\n",
    "MAPE = mean_absolute_percentage_error(y_test, predict)\n",
    "MSE = mean_squared_error(y_test, predict, squared=False)\n",
    "RMSE = mean_squared_error(y_test, predict)\n",
    "\n",
    "print(f'MAE: {MAE}')\n",
    "print(f'MAPE: {MAPE}')\n",
    "print(f'MSE: {MSE}')\n",
    "print(f'RMSE: {RMSE}')\n",
    "\n",
    "MAE_dict['MLPRegressor'] = MAE\n",
    "MAPE_dict['MLPRegressor'] = MAPE\n",
    "RMSE_dict['MLPRegressor'] = RMSE"
   ]
  },
  {
   "cell_type": "markdown",
   "metadata": {},
   "source": [
    "## SVR (Support Vector Regression)"
   ]
  },
  {
   "cell_type": "code",
   "execution_count": 80,
   "metadata": {},
   "outputs": [],
   "source": [
    "from sklearn.svm import SVR"
   ]
  },
  {
   "cell_type": "code",
   "execution_count": 81,
   "metadata": {},
   "outputs": [
    {
     "data": {
      "text/html": [
       "<style>#sk-container-id-8 {color: black;background-color: white;}#sk-container-id-8 pre{padding: 0;}#sk-container-id-8 div.sk-toggleable {background-color: white;}#sk-container-id-8 label.sk-toggleable__label {cursor: pointer;display: block;width: 100%;margin-bottom: 0;padding: 0.3em;box-sizing: border-box;text-align: center;}#sk-container-id-8 label.sk-toggleable__label-arrow:before {content: \"▸\";float: left;margin-right: 0.25em;color: #696969;}#sk-container-id-8 label.sk-toggleable__label-arrow:hover:before {color: black;}#sk-container-id-8 div.sk-estimator:hover label.sk-toggleable__label-arrow:before {color: black;}#sk-container-id-8 div.sk-toggleable__content {max-height: 0;max-width: 0;overflow: hidden;text-align: left;background-color: #f0f8ff;}#sk-container-id-8 div.sk-toggleable__content pre {margin: 0.2em;color: black;border-radius: 0.25em;background-color: #f0f8ff;}#sk-container-id-8 input.sk-toggleable__control:checked~div.sk-toggleable__content {max-height: 200px;max-width: 100%;overflow: auto;}#sk-container-id-8 input.sk-toggleable__control:checked~label.sk-toggleable__label-arrow:before {content: \"▾\";}#sk-container-id-8 div.sk-estimator input.sk-toggleable__control:checked~label.sk-toggleable__label {background-color: #d4ebff;}#sk-container-id-8 div.sk-label input.sk-toggleable__control:checked~label.sk-toggleable__label {background-color: #d4ebff;}#sk-container-id-8 input.sk-hidden--visually {border: 0;clip: rect(1px 1px 1px 1px);clip: rect(1px, 1px, 1px, 1px);height: 1px;margin: -1px;overflow: hidden;padding: 0;position: absolute;width: 1px;}#sk-container-id-8 div.sk-estimator {font-family: monospace;background-color: #f0f8ff;border: 1px dotted black;border-radius: 0.25em;box-sizing: border-box;margin-bottom: 0.5em;}#sk-container-id-8 div.sk-estimator:hover {background-color: #d4ebff;}#sk-container-id-8 div.sk-parallel-item::after {content: \"\";width: 100%;border-bottom: 1px solid gray;flex-grow: 1;}#sk-container-id-8 div.sk-label:hover label.sk-toggleable__label {background-color: #d4ebff;}#sk-container-id-8 div.sk-serial::before {content: \"\";position: absolute;border-left: 1px solid gray;box-sizing: border-box;top: 0;bottom: 0;left: 50%;z-index: 0;}#sk-container-id-8 div.sk-serial {display: flex;flex-direction: column;align-items: center;background-color: white;padding-right: 0.2em;padding-left: 0.2em;position: relative;}#sk-container-id-8 div.sk-item {position: relative;z-index: 1;}#sk-container-id-8 div.sk-parallel {display: flex;align-items: stretch;justify-content: center;background-color: white;position: relative;}#sk-container-id-8 div.sk-item::before, #sk-container-id-8 div.sk-parallel-item::before {content: \"\";position: absolute;border-left: 1px solid gray;box-sizing: border-box;top: 0;bottom: 0;left: 50%;z-index: -1;}#sk-container-id-8 div.sk-parallel-item {display: flex;flex-direction: column;z-index: 1;position: relative;background-color: white;}#sk-container-id-8 div.sk-parallel-item:first-child::after {align-self: flex-end;width: 50%;}#sk-container-id-8 div.sk-parallel-item:last-child::after {align-self: flex-start;width: 50%;}#sk-container-id-8 div.sk-parallel-item:only-child::after {width: 0;}#sk-container-id-8 div.sk-dashed-wrapped {border: 1px dashed gray;margin: 0 0.4em 0.5em 0.4em;box-sizing: border-box;padding-bottom: 0.4em;background-color: white;}#sk-container-id-8 div.sk-label label {font-family: monospace;font-weight: bold;display: inline-block;line-height: 1.2em;}#sk-container-id-8 div.sk-label-container {text-align: center;}#sk-container-id-8 div.sk-container {/* jupyter's `normalize.less` sets `[hidden] { display: none; }` but bootstrap.min.css set `[hidden] { display: none !important; }` so we also need the `!important` here to be able to override the default hidden behavior on the sphinx rendered scikit-learn.org. See: https://github.com/scikit-learn/scikit-learn/issues/21755 */display: inline-block !important;position: relative;}#sk-container-id-8 div.sk-text-repr-fallback {display: none;}</style><div id=\"sk-container-id-8\" class=\"sk-top-container\"><div class=\"sk-text-repr-fallback\"><pre>GridSearchCV(cv=3, estimator=SVR(),\n",
       "             param_grid={&#x27;C&#x27;: [1.0, 2.0, 3.0, 4.0, 5.0, 10.0, 20.0, 30.0, 40.0,\n",
       "                               50.0, 100.0],\n",
       "                         &#x27;kernel&#x27;: [&#x27;linear&#x27;, &#x27;poly&#x27;, &#x27;rbf&#x27;, &#x27;sigmoid&#x27;]},\n",
       "             scoring=&#x27;neg_mean_absolute_percentage_error&#x27;)</pre><b>In a Jupyter environment, please rerun this cell to show the HTML representation or trust the notebook. <br />On GitHub, the HTML representation is unable to render, please try loading this page with nbviewer.org.</b></div><div class=\"sk-container\" hidden><div class=\"sk-item sk-dashed-wrapped\"><div class=\"sk-label-container\"><div class=\"sk-label sk-toggleable\"><input class=\"sk-toggleable__control sk-hidden--visually\" id=\"sk-estimator-id-22\" type=\"checkbox\" ><label for=\"sk-estimator-id-22\" class=\"sk-toggleable__label sk-toggleable__label-arrow\">GridSearchCV</label><div class=\"sk-toggleable__content\"><pre>GridSearchCV(cv=3, estimator=SVR(),\n",
       "             param_grid={&#x27;C&#x27;: [1.0, 2.0, 3.0, 4.0, 5.0, 10.0, 20.0, 30.0, 40.0,\n",
       "                               50.0, 100.0],\n",
       "                         &#x27;kernel&#x27;: [&#x27;linear&#x27;, &#x27;poly&#x27;, &#x27;rbf&#x27;, &#x27;sigmoid&#x27;]},\n",
       "             scoring=&#x27;neg_mean_absolute_percentage_error&#x27;)</pre></div></div></div><div class=\"sk-parallel\"><div class=\"sk-parallel-item\"><div class=\"sk-item\"><div class=\"sk-label-container\"><div class=\"sk-label sk-toggleable\"><input class=\"sk-toggleable__control sk-hidden--visually\" id=\"sk-estimator-id-23\" type=\"checkbox\" ><label for=\"sk-estimator-id-23\" class=\"sk-toggleable__label sk-toggleable__label-arrow\">estimator: SVR</label><div class=\"sk-toggleable__content\"><pre>SVR()</pre></div></div></div><div class=\"sk-serial\"><div class=\"sk-item\"><div class=\"sk-estimator sk-toggleable\"><input class=\"sk-toggleable__control sk-hidden--visually\" id=\"sk-estimator-id-24\" type=\"checkbox\" ><label for=\"sk-estimator-id-24\" class=\"sk-toggleable__label sk-toggleable__label-arrow\">SVR</label><div class=\"sk-toggleable__content\"><pre>SVR()</pre></div></div></div></div></div></div></div></div></div></div>"
      ],
      "text/plain": [
       "GridSearchCV(cv=3, estimator=SVR(),\n",
       "             param_grid={'C': [1.0, 2.0, 3.0, 4.0, 5.0, 10.0, 20.0, 30.0, 40.0,\n",
       "                               50.0, 100.0],\n",
       "                         'kernel': ['linear', 'poly', 'rbf', 'sigmoid']},\n",
       "             scoring='neg_mean_absolute_percentage_error')"
      ]
     },
     "execution_count": 81,
     "metadata": {},
     "output_type": "execute_result"
    }
   ],
   "source": [
    "support_vector = SVR()\n",
    "parameters = {'C': [1.0,2.0,3.0,4.0,5.0,10.0,20.0,30.0,40.0,50.0,100.0], 'kernel': ['linear', 'poly', 'rbf', 'sigmoid']}\n",
    "support_vector_regressor = GridSearchCV(support_vector, parameters, scoring = 'neg_mean_absolute_percentage_error', cv = 3)\n",
    "support_vector_regressor.fit(X_train, y_train)"
   ]
  },
  {
   "cell_type": "code",
   "execution_count": 82,
   "metadata": {},
   "outputs": [
    {
     "name": "stdout",
     "output_type": "stream",
     "text": [
      "{'C': 3.0, 'kernel': 'rbf'}\n",
      "-0.02882310384538937\n"
     ]
    }
   ],
   "source": [
    "print(support_vector_regressor.best_params_)\n",
    "print(support_vector_regressor.best_score_)"
   ]
  },
  {
   "cell_type": "code",
   "execution_count": 83,
   "metadata": {},
   "outputs": [],
   "source": [
    "predict = support_vector_regressor.predict(X_test)"
   ]
  },
  {
   "cell_type": "code",
   "execution_count": 84,
   "metadata": {},
   "outputs": [
    {
     "name": "stdout",
     "output_type": "stream",
     "text": [
      "MAE: 0.20678650088452666\n",
      "MAPE: 0.029490535666033706\n",
      "MSE: 0.28182201183891314\n",
      "RMSE: 0.07942364635693251\n"
     ]
    }
   ],
   "source": [
    "MAE = mean_absolute_error(y_test, predict)\n",
    "MAPE = mean_absolute_percentage_error(y_test, predict)\n",
    "MSE = mean_squared_error(y_test, predict, squared=False)\n",
    "RMSE = mean_squared_error(y_test, predict)\n",
    "\n",
    "print(f'MAE: {MAE}')\n",
    "print(f'MAPE: {MAPE}')\n",
    "print(f'MSE: {MSE}')\n",
    "print(f'RMSE: {RMSE}')\n",
    "\n",
    "MAE_dict['SVR'] = MAE\n",
    "MAPE_dict['SVR'] = MAPE\n",
    "RMSE_dict['SVR'] = RMSE"
   ]
  },
  {
   "cell_type": "markdown",
   "metadata": {},
   "source": [
    "## Decisionn Tree Regressor"
   ]
  },
  {
   "cell_type": "code",
   "execution_count": 85,
   "metadata": {},
   "outputs": [],
   "source": [
    "from sklearn.tree import DecisionTreeRegressor"
   ]
  },
  {
   "cell_type": "code",
   "execution_count": 86,
   "metadata": {},
   "outputs": [
    {
     "data": {
      "text/html": [
       "<style>#sk-container-id-9 {color: black;background-color: white;}#sk-container-id-9 pre{padding: 0;}#sk-container-id-9 div.sk-toggleable {background-color: white;}#sk-container-id-9 label.sk-toggleable__label {cursor: pointer;display: block;width: 100%;margin-bottom: 0;padding: 0.3em;box-sizing: border-box;text-align: center;}#sk-container-id-9 label.sk-toggleable__label-arrow:before {content: \"▸\";float: left;margin-right: 0.25em;color: #696969;}#sk-container-id-9 label.sk-toggleable__label-arrow:hover:before {color: black;}#sk-container-id-9 div.sk-estimator:hover label.sk-toggleable__label-arrow:before {color: black;}#sk-container-id-9 div.sk-toggleable__content {max-height: 0;max-width: 0;overflow: hidden;text-align: left;background-color: #f0f8ff;}#sk-container-id-9 div.sk-toggleable__content pre {margin: 0.2em;color: black;border-radius: 0.25em;background-color: #f0f8ff;}#sk-container-id-9 input.sk-toggleable__control:checked~div.sk-toggleable__content {max-height: 200px;max-width: 100%;overflow: auto;}#sk-container-id-9 input.sk-toggleable__control:checked~label.sk-toggleable__label-arrow:before {content: \"▾\";}#sk-container-id-9 div.sk-estimator input.sk-toggleable__control:checked~label.sk-toggleable__label {background-color: #d4ebff;}#sk-container-id-9 div.sk-label input.sk-toggleable__control:checked~label.sk-toggleable__label {background-color: #d4ebff;}#sk-container-id-9 input.sk-hidden--visually {border: 0;clip: rect(1px 1px 1px 1px);clip: rect(1px, 1px, 1px, 1px);height: 1px;margin: -1px;overflow: hidden;padding: 0;position: absolute;width: 1px;}#sk-container-id-9 div.sk-estimator {font-family: monospace;background-color: #f0f8ff;border: 1px dotted black;border-radius: 0.25em;box-sizing: border-box;margin-bottom: 0.5em;}#sk-container-id-9 div.sk-estimator:hover {background-color: #d4ebff;}#sk-container-id-9 div.sk-parallel-item::after {content: \"\";width: 100%;border-bottom: 1px solid gray;flex-grow: 1;}#sk-container-id-9 div.sk-label:hover label.sk-toggleable__label {background-color: #d4ebff;}#sk-container-id-9 div.sk-serial::before {content: \"\";position: absolute;border-left: 1px solid gray;box-sizing: border-box;top: 0;bottom: 0;left: 50%;z-index: 0;}#sk-container-id-9 div.sk-serial {display: flex;flex-direction: column;align-items: center;background-color: white;padding-right: 0.2em;padding-left: 0.2em;position: relative;}#sk-container-id-9 div.sk-item {position: relative;z-index: 1;}#sk-container-id-9 div.sk-parallel {display: flex;align-items: stretch;justify-content: center;background-color: white;position: relative;}#sk-container-id-9 div.sk-item::before, #sk-container-id-9 div.sk-parallel-item::before {content: \"\";position: absolute;border-left: 1px solid gray;box-sizing: border-box;top: 0;bottom: 0;left: 50%;z-index: -1;}#sk-container-id-9 div.sk-parallel-item {display: flex;flex-direction: column;z-index: 1;position: relative;background-color: white;}#sk-container-id-9 div.sk-parallel-item:first-child::after {align-self: flex-end;width: 50%;}#sk-container-id-9 div.sk-parallel-item:last-child::after {align-self: flex-start;width: 50%;}#sk-container-id-9 div.sk-parallel-item:only-child::after {width: 0;}#sk-container-id-9 div.sk-dashed-wrapped {border: 1px dashed gray;margin: 0 0.4em 0.5em 0.4em;box-sizing: border-box;padding-bottom: 0.4em;background-color: white;}#sk-container-id-9 div.sk-label label {font-family: monospace;font-weight: bold;display: inline-block;line-height: 1.2em;}#sk-container-id-9 div.sk-label-container {text-align: center;}#sk-container-id-9 div.sk-container {/* jupyter's `normalize.less` sets `[hidden] { display: none; }` but bootstrap.min.css set `[hidden] { display: none !important; }` so we also need the `!important` here to be able to override the default hidden behavior on the sphinx rendered scikit-learn.org. See: https://github.com/scikit-learn/scikit-learn/issues/21755 */display: inline-block !important;position: relative;}#sk-container-id-9 div.sk-text-repr-fallback {display: none;}</style><div id=\"sk-container-id-9\" class=\"sk-top-container\"><div class=\"sk-text-repr-fallback\"><pre>GridSearchCV(cv=3, estimator=DecisionTreeRegressor(),\n",
       "             param_grid={&#x27;criterion&#x27;: [&#x27;squared_error&#x27;, &#x27;absolute_error&#x27;,\n",
       "                                       &#x27;poisson&#x27;],\n",
       "                         &#x27;random_state&#x27;: [42]},\n",
       "             scoring=&#x27;neg_mean_absolute_percentage_error&#x27;)</pre><b>In a Jupyter environment, please rerun this cell to show the HTML representation or trust the notebook. <br />On GitHub, the HTML representation is unable to render, please try loading this page with nbviewer.org.</b></div><div class=\"sk-container\" hidden><div class=\"sk-item sk-dashed-wrapped\"><div class=\"sk-label-container\"><div class=\"sk-label sk-toggleable\"><input class=\"sk-toggleable__control sk-hidden--visually\" id=\"sk-estimator-id-25\" type=\"checkbox\" ><label for=\"sk-estimator-id-25\" class=\"sk-toggleable__label sk-toggleable__label-arrow\">GridSearchCV</label><div class=\"sk-toggleable__content\"><pre>GridSearchCV(cv=3, estimator=DecisionTreeRegressor(),\n",
       "             param_grid={&#x27;criterion&#x27;: [&#x27;squared_error&#x27;, &#x27;absolute_error&#x27;,\n",
       "                                       &#x27;poisson&#x27;],\n",
       "                         &#x27;random_state&#x27;: [42]},\n",
       "             scoring=&#x27;neg_mean_absolute_percentage_error&#x27;)</pre></div></div></div><div class=\"sk-parallel\"><div class=\"sk-parallel-item\"><div class=\"sk-item\"><div class=\"sk-label-container\"><div class=\"sk-label sk-toggleable\"><input class=\"sk-toggleable__control sk-hidden--visually\" id=\"sk-estimator-id-26\" type=\"checkbox\" ><label for=\"sk-estimator-id-26\" class=\"sk-toggleable__label sk-toggleable__label-arrow\">estimator: DecisionTreeRegressor</label><div class=\"sk-toggleable__content\"><pre>DecisionTreeRegressor()</pre></div></div></div><div class=\"sk-serial\"><div class=\"sk-item\"><div class=\"sk-estimator sk-toggleable\"><input class=\"sk-toggleable__control sk-hidden--visually\" id=\"sk-estimator-id-27\" type=\"checkbox\" ><label for=\"sk-estimator-id-27\" class=\"sk-toggleable__label sk-toggleable__label-arrow\">DecisionTreeRegressor</label><div class=\"sk-toggleable__content\"><pre>DecisionTreeRegressor()</pre></div></div></div></div></div></div></div></div></div></div>"
      ],
      "text/plain": [
       "GridSearchCV(cv=3, estimator=DecisionTreeRegressor(),\n",
       "             param_grid={'criterion': ['squared_error', 'absolute_error',\n",
       "                                       'poisson'],\n",
       "                         'random_state': [42]},\n",
       "             scoring='neg_mean_absolute_percentage_error')"
      ]
     },
     "execution_count": 86,
     "metadata": {},
     "output_type": "execute_result"
    }
   ],
   "source": [
    "decision_tree = DecisionTreeRegressor()\n",
    "parameters = {'criterion': ['squared_error', 'absolute_error', 'poisson'], 'random_state':[42]}\n",
    "decision_tree_regressor = GridSearchCV(decision_tree, parameters, scoring = 'neg_mean_absolute_percentage_error', cv = 3)\n",
    "decision_tree_regressor.fit(X_train, y_train)"
   ]
  },
  {
   "cell_type": "code",
   "execution_count": 87,
   "metadata": {},
   "outputs": [
    {
     "name": "stdout",
     "output_type": "stream",
     "text": [
      "{'criterion': 'absolute_error', 'random_state': 42}\n",
      "-0.036987357256841547\n"
     ]
    }
   ],
   "source": [
    "print(decision_tree_regressor.best_params_)\n",
    "print(decision_tree_regressor.best_score_)"
   ]
  },
  {
   "cell_type": "code",
   "execution_count": 88,
   "metadata": {},
   "outputs": [],
   "source": [
    "predict = decision_tree_regressor.predict(X_test)"
   ]
  },
  {
   "cell_type": "code",
   "execution_count": 89,
   "metadata": {},
   "outputs": [
    {
     "name": "stdout",
     "output_type": "stream",
     "text": [
      "MAE: 0.20046511627906982\n",
      "MAPE: 0.028481238653962335\n",
      "MSE: 0.2744042172026601\n",
      "RMSE: 0.07529767441860467\n"
     ]
    }
   ],
   "source": [
    "MAE = mean_absolute_error(y_test, predict)\n",
    "MAPE = mean_absolute_percentage_error(y_test, predict)\n",
    "MSE = mean_squared_error(y_test, predict, squared=False)\n",
    "RMSE = mean_squared_error(y_test, predict)\n",
    "\n",
    "print(f'MAE: {MAE}')\n",
    "print(f'MAPE: {MAPE}')\n",
    "print(f'MSE: {MSE}')\n",
    "print(f'RMSE: {RMSE}')\n",
    "\n",
    "MAE_dict['DecisionTreeRegressor'] = MAE\n",
    "MAPE_dict['DecisionTreeRegressor'] = MAPE\n",
    "RMSE_dict['DecisionTreeRegressor'] = RMSE"
   ]
  },
  {
   "cell_type": "markdown",
   "metadata": {},
   "source": [
    "## RF Regression"
   ]
  },
  {
   "cell_type": "code",
   "execution_count": 90,
   "metadata": {},
   "outputs": [],
   "source": [
    "from sklearn.ensemble import RandomForestRegressor"
   ]
  },
  {
   "cell_type": "code",
   "execution_count": 91,
   "metadata": {},
   "outputs": [
    {
     "data": {
      "text/html": [
       "<style>#sk-container-id-10 {color: black;background-color: white;}#sk-container-id-10 pre{padding: 0;}#sk-container-id-10 div.sk-toggleable {background-color: white;}#sk-container-id-10 label.sk-toggleable__label {cursor: pointer;display: block;width: 100%;margin-bottom: 0;padding: 0.3em;box-sizing: border-box;text-align: center;}#sk-container-id-10 label.sk-toggleable__label-arrow:before {content: \"▸\";float: left;margin-right: 0.25em;color: #696969;}#sk-container-id-10 label.sk-toggleable__label-arrow:hover:before {color: black;}#sk-container-id-10 div.sk-estimator:hover label.sk-toggleable__label-arrow:before {color: black;}#sk-container-id-10 div.sk-toggleable__content {max-height: 0;max-width: 0;overflow: hidden;text-align: left;background-color: #f0f8ff;}#sk-container-id-10 div.sk-toggleable__content pre {margin: 0.2em;color: black;border-radius: 0.25em;background-color: #f0f8ff;}#sk-container-id-10 input.sk-toggleable__control:checked~div.sk-toggleable__content {max-height: 200px;max-width: 100%;overflow: auto;}#sk-container-id-10 input.sk-toggleable__control:checked~label.sk-toggleable__label-arrow:before {content: \"▾\";}#sk-container-id-10 div.sk-estimator input.sk-toggleable__control:checked~label.sk-toggleable__label {background-color: #d4ebff;}#sk-container-id-10 div.sk-label input.sk-toggleable__control:checked~label.sk-toggleable__label {background-color: #d4ebff;}#sk-container-id-10 input.sk-hidden--visually {border: 0;clip: rect(1px 1px 1px 1px);clip: rect(1px, 1px, 1px, 1px);height: 1px;margin: -1px;overflow: hidden;padding: 0;position: absolute;width: 1px;}#sk-container-id-10 div.sk-estimator {font-family: monospace;background-color: #f0f8ff;border: 1px dotted black;border-radius: 0.25em;box-sizing: border-box;margin-bottom: 0.5em;}#sk-container-id-10 div.sk-estimator:hover {background-color: #d4ebff;}#sk-container-id-10 div.sk-parallel-item::after {content: \"\";width: 100%;border-bottom: 1px solid gray;flex-grow: 1;}#sk-container-id-10 div.sk-label:hover label.sk-toggleable__label {background-color: #d4ebff;}#sk-container-id-10 div.sk-serial::before {content: \"\";position: absolute;border-left: 1px solid gray;box-sizing: border-box;top: 0;bottom: 0;left: 50%;z-index: 0;}#sk-container-id-10 div.sk-serial {display: flex;flex-direction: column;align-items: center;background-color: white;padding-right: 0.2em;padding-left: 0.2em;position: relative;}#sk-container-id-10 div.sk-item {position: relative;z-index: 1;}#sk-container-id-10 div.sk-parallel {display: flex;align-items: stretch;justify-content: center;background-color: white;position: relative;}#sk-container-id-10 div.sk-item::before, #sk-container-id-10 div.sk-parallel-item::before {content: \"\";position: absolute;border-left: 1px solid gray;box-sizing: border-box;top: 0;bottom: 0;left: 50%;z-index: -1;}#sk-container-id-10 div.sk-parallel-item {display: flex;flex-direction: column;z-index: 1;position: relative;background-color: white;}#sk-container-id-10 div.sk-parallel-item:first-child::after {align-self: flex-end;width: 50%;}#sk-container-id-10 div.sk-parallel-item:last-child::after {align-self: flex-start;width: 50%;}#sk-container-id-10 div.sk-parallel-item:only-child::after {width: 0;}#sk-container-id-10 div.sk-dashed-wrapped {border: 1px dashed gray;margin: 0 0.4em 0.5em 0.4em;box-sizing: border-box;padding-bottom: 0.4em;background-color: white;}#sk-container-id-10 div.sk-label label {font-family: monospace;font-weight: bold;display: inline-block;line-height: 1.2em;}#sk-container-id-10 div.sk-label-container {text-align: center;}#sk-container-id-10 div.sk-container {/* jupyter's `normalize.less` sets `[hidden] { display: none; }` but bootstrap.min.css set `[hidden] { display: none !important; }` so we also need the `!important` here to be able to override the default hidden behavior on the sphinx rendered scikit-learn.org. See: https://github.com/scikit-learn/scikit-learn/issues/21755 */display: inline-block !important;position: relative;}#sk-container-id-10 div.sk-text-repr-fallback {display: none;}</style><div id=\"sk-container-id-10\" class=\"sk-top-container\"><div class=\"sk-text-repr-fallback\"><pre>GridSearchCV(cv=3, estimator=RandomForestRegressor(),\n",
       "             param_grid={&#x27;criterion&#x27;: [&#x27;squared_error&#x27;, &#x27;absolute_error&#x27;,\n",
       "                                       &#x27;poisson&#x27;],\n",
       "                         &#x27;n_estimators&#x27;: [1, 5, 10, 20, 30, 35, 40, 45, 50, 55,\n",
       "                                          100],\n",
       "                         &#x27;random_state&#x27;: [42]},\n",
       "             scoring=&#x27;neg_mean_absolute_percentage_error&#x27;)</pre><b>In a Jupyter environment, please rerun this cell to show the HTML representation or trust the notebook. <br />On GitHub, the HTML representation is unable to render, please try loading this page with nbviewer.org.</b></div><div class=\"sk-container\" hidden><div class=\"sk-item sk-dashed-wrapped\"><div class=\"sk-label-container\"><div class=\"sk-label sk-toggleable\"><input class=\"sk-toggleable__control sk-hidden--visually\" id=\"sk-estimator-id-28\" type=\"checkbox\" ><label for=\"sk-estimator-id-28\" class=\"sk-toggleable__label sk-toggleable__label-arrow\">GridSearchCV</label><div class=\"sk-toggleable__content\"><pre>GridSearchCV(cv=3, estimator=RandomForestRegressor(),\n",
       "             param_grid={&#x27;criterion&#x27;: [&#x27;squared_error&#x27;, &#x27;absolute_error&#x27;,\n",
       "                                       &#x27;poisson&#x27;],\n",
       "                         &#x27;n_estimators&#x27;: [1, 5, 10, 20, 30, 35, 40, 45, 50, 55,\n",
       "                                          100],\n",
       "                         &#x27;random_state&#x27;: [42]},\n",
       "             scoring=&#x27;neg_mean_absolute_percentage_error&#x27;)</pre></div></div></div><div class=\"sk-parallel\"><div class=\"sk-parallel-item\"><div class=\"sk-item\"><div class=\"sk-label-container\"><div class=\"sk-label sk-toggleable\"><input class=\"sk-toggleable__control sk-hidden--visually\" id=\"sk-estimator-id-29\" type=\"checkbox\" ><label for=\"sk-estimator-id-29\" class=\"sk-toggleable__label sk-toggleable__label-arrow\">estimator: RandomForestRegressor</label><div class=\"sk-toggleable__content\"><pre>RandomForestRegressor()</pre></div></div></div><div class=\"sk-serial\"><div class=\"sk-item\"><div class=\"sk-estimator sk-toggleable\"><input class=\"sk-toggleable__control sk-hidden--visually\" id=\"sk-estimator-id-30\" type=\"checkbox\" ><label for=\"sk-estimator-id-30\" class=\"sk-toggleable__label sk-toggleable__label-arrow\">RandomForestRegressor</label><div class=\"sk-toggleable__content\"><pre>RandomForestRegressor()</pre></div></div></div></div></div></div></div></div></div></div>"
      ],
      "text/plain": [
       "GridSearchCV(cv=3, estimator=RandomForestRegressor(),\n",
       "             param_grid={'criterion': ['squared_error', 'absolute_error',\n",
       "                                       'poisson'],\n",
       "                         'n_estimators': [1, 5, 10, 20, 30, 35, 40, 45, 50, 55,\n",
       "                                          100],\n",
       "                         'random_state': [42]},\n",
       "             scoring='neg_mean_absolute_percentage_error')"
      ]
     },
     "execution_count": 91,
     "metadata": {},
     "output_type": "execute_result"
    }
   ],
   "source": [
    "random_forest = RandomForestRegressor()\n",
    "parameters = {'n_estimators': [1, 5, 10, 20, 30, 35, 40, 45, 50, 55, 100], 'random_state':[42], 'criterion': ['squared_error', 'absolute_error', 'poisson']}\n",
    "random_forest_regressor = GridSearchCV(random_forest, parameters, scoring = 'neg_mean_absolute_percentage_error', cv = 3)\n",
    "random_forest_regressor.fit(X_train, y_train)"
   ]
  },
  {
   "cell_type": "code",
   "execution_count": 92,
   "metadata": {},
   "outputs": [
    {
     "name": "stdout",
     "output_type": "stream",
     "text": [
      "{'criterion': 'poisson', 'n_estimators': 10, 'random_state': 42}\n",
      "-0.029213141627099676\n"
     ]
    }
   ],
   "source": [
    "print(random_forest_regressor.best_params_)\n",
    "print(random_forest_regressor.best_score_)"
   ]
  },
  {
   "cell_type": "code",
   "execution_count": 93,
   "metadata": {},
   "outputs": [],
   "source": [
    "rf_predict = random_forest_regressor.predict(X_test)"
   ]
  },
  {
   "cell_type": "code",
   "execution_count": 94,
   "metadata": {},
   "outputs": [
    {
     "name": "stdout",
     "output_type": "stream",
     "text": [
      "MAE: 0.17211627906976726\n",
      "MAPE: 0.024454393391468605\n",
      "MSE: 0.24125847376370144\n",
      "RMSE: 0.05820565116279061\n"
     ]
    }
   ],
   "source": [
    "MAE = mean_absolute_error(y_test, rf_predict)\n",
    "MAPE = mean_absolute_percentage_error(y_test, rf_predict)\n",
    "MSE = mean_squared_error(y_test, rf_predict, squared=False)\n",
    "RMSE = mean_squared_error(y_test, rf_predict)\n",
    "\n",
    "print(f'MAE: {MAE}')\n",
    "print(f'MAPE: {MAPE}')\n",
    "print(f'MSE: {MSE}')\n",
    "print(f'RMSE: {RMSE}')\n",
    "\n",
    "MAE_dict['RandomForestRegressor'] = MAE\n",
    "MAPE_dict['RandomForestRegressor'] = MAPE\n",
    "RMSE_dict['RandomForestRegressor'] = RMSE"
   ]
  },
  {
   "cell_type": "markdown",
   "metadata": {},
   "source": [
    "## RESULTADOS\n",
    "* Avaliando as métricas de MAE, MAPE e RMSE"
   ]
  },
  {
   "cell_type": "code",
   "execution_count": 95,
   "metadata": {},
   "outputs": [
    {
     "name": "stdout",
     "output_type": "stream",
     "text": [
      "RandomForestRegressor: 0.17211627906976726\n",
      "DecisionTreeRegressor: 0.20046511627906982\n",
      "MLPRegressor: 0.20191903590938926\n",
      "SVR: 0.20678650088452666\n"
     ]
    }
   ],
   "source": [
    "# Modelos em ordem crescente em relação ao valor de MAE\n",
    "for i in sorted(MAE_dict, key = MAE_dict.get):\n",
    "    print(f'{i}: {MAE_dict[i]}')"
   ]
  },
  {
   "cell_type": "code",
   "execution_count": 96,
   "metadata": {},
   "outputs": [
    {
     "name": "stdout",
     "output_type": "stream",
     "text": [
      "RandomForestRegressor: 0.024454393391468605\n",
      "DecisionTreeRegressor: 0.028481238653962335\n",
      "MLPRegressor: 0.028745637269660503\n",
      "SVR: 0.029490535666033706\n"
     ]
    }
   ],
   "source": [
    "# Modelos em ordem crescente em relação ao valor de MAPE\n",
    "for i in sorted(MAPE_dict, key = MAPE_dict.get):\n",
    "    print(f'{i}: {MAPE_dict[i]}')"
   ]
  },
  {
   "cell_type": "code",
   "execution_count": 97,
   "metadata": {},
   "outputs": [
    {
     "name": "stdout",
     "output_type": "stream",
     "text": [
      "RandomForestRegressor: 0.05820565116279061\n",
      "DecisionTreeRegressor: 0.07529767441860467\n",
      "MLPRegressor: 0.07773653445406002\n",
      "SVR: 0.07942364635693251\n"
     ]
    }
   ],
   "source": [
    "# Modelos em ordem crescente em relação ao valor de RMSE\n",
    "for i in sorted(RMSE_dict, key = RMSE_dict.get):\n",
    "    print(f'{i}: {RMSE_dict[i]}')"
   ]
  },
  {
   "cell_type": "markdown",
   "metadata": {},
   "source": [
    "* Cria um dataframe para armazenar os resultados obtidos"
   ]
  },
  {
   "cell_type": "code",
   "execution_count": 98,
   "metadata": {},
   "outputs": [],
   "source": [
    "columns = ['Modelo', 'MAE', 'MAPE', 'RMSE']\n",
    "results = pd.DataFrame(columns=columns)"
   ]
  },
  {
   "cell_type": "code",
   "execution_count": 99,
   "metadata": {},
   "outputs": [],
   "source": [
    "modelos = ['MLPRegressor', 'SVR', 'DecisionTreeRegressor', 'RandomForestRegressor']\n",
    "results['Modelo'] = modelos"
   ]
  },
  {
   "cell_type": "markdown",
   "metadata": {},
   "source": [
    "* Armazena as métricas obtidas em listas"
   ]
  },
  {
   "cell_type": "code",
   "execution_count": 100,
   "metadata": {},
   "outputs": [],
   "source": [
    "MAE_list = []\n",
    "MAPE_list = []\n",
    "RMSE_list = []\n",
    "\n",
    "for i in range(0,len(modelos)):\n",
    "    modelo = modelos[i]\n",
    "\n",
    "    MAE_list.append(MAE_dict[modelo])\n",
    "    MAPE_list.append(MAPE_dict[modelo])\n",
    "    RMSE_list.append(RMSE_dict[modelo])    "
   ]
  },
  {
   "cell_type": "code",
   "execution_count": 101,
   "metadata": {},
   "outputs": [],
   "source": [
    "results['MAE'] = MAE_list\n",
    "results['MAPE'] = MAPE_list\n",
    "results['RMSE'] = RMSE_list "
   ]
  },
  {
   "cell_type": "markdown",
   "metadata": {},
   "source": [
    "* Exibe o dataframe criado"
   ]
  },
  {
   "cell_type": "code",
   "execution_count": 102,
   "metadata": {},
   "outputs": [
    {
     "data": {
      "text/html": [
       "<div>\n",
       "<style scoped>\n",
       "    .dataframe tbody tr th:only-of-type {\n",
       "        vertical-align: middle;\n",
       "    }\n",
       "\n",
       "    .dataframe tbody tr th {\n",
       "        vertical-align: top;\n",
       "    }\n",
       "\n",
       "    .dataframe thead th {\n",
       "        text-align: right;\n",
       "    }\n",
       "</style>\n",
       "<table border=\"1\" class=\"dataframe\">\n",
       "  <thead>\n",
       "    <tr style=\"text-align: right;\">\n",
       "      <th></th>\n",
       "      <th>Modelo</th>\n",
       "      <th>MAE</th>\n",
       "      <th>MAPE</th>\n",
       "      <th>RMSE</th>\n",
       "    </tr>\n",
       "  </thead>\n",
       "  <tbody>\n",
       "    <tr>\n",
       "      <th>0</th>\n",
       "      <td>MLPRegressor</td>\n",
       "      <td>0.201919</td>\n",
       "      <td>0.028746</td>\n",
       "      <td>0.077737</td>\n",
       "    </tr>\n",
       "    <tr>\n",
       "      <th>1</th>\n",
       "      <td>SVR</td>\n",
       "      <td>0.206787</td>\n",
       "      <td>0.029491</td>\n",
       "      <td>0.079424</td>\n",
       "    </tr>\n",
       "    <tr>\n",
       "      <th>2</th>\n",
       "      <td>DecisionTreeRegressor</td>\n",
       "      <td>0.200465</td>\n",
       "      <td>0.028481</td>\n",
       "      <td>0.075298</td>\n",
       "    </tr>\n",
       "    <tr>\n",
       "      <th>3</th>\n",
       "      <td>RandomForestRegressor</td>\n",
       "      <td>0.172116</td>\n",
       "      <td>0.024454</td>\n",
       "      <td>0.058206</td>\n",
       "    </tr>\n",
       "  </tbody>\n",
       "</table>\n",
       "</div>"
      ],
      "text/plain": [
       "                  Modelo       MAE      MAPE      RMSE\n",
       "0           MLPRegressor  0.201919  0.028746  0.077737\n",
       "1                    SVR  0.206787  0.029491  0.079424\n",
       "2  DecisionTreeRegressor  0.200465  0.028481  0.075298\n",
       "3  RandomForestRegressor  0.172116  0.024454  0.058206"
      ]
     },
     "execution_count": 102,
     "metadata": {},
     "output_type": "execute_result"
    }
   ],
   "source": [
    "results"
   ]
  },
  {
   "cell_type": "markdown",
   "metadata": {},
   "source": [
    "* Salva os resultados em uma planilha excel"
   ]
  },
  {
   "cell_type": "code",
   "execution_count": 105,
   "metadata": {},
   "outputs": [],
   "source": [
    "# Necessário instalar openpyxl ( pip install openpyxl )\n",
    "results.to_excel('Results.xlsx')"
   ]
  },
  {
   "cell_type": "markdown",
   "metadata": {},
   "source": [
    "* Plota gráfico da comparação dos valores de pH reais do conjunto de teste com as previsões feitas pelo melhor modelo (RF Regressor)"
   ]
  },
  {
   "cell_type": "code",
   "execution_count": 139,
   "metadata": {},
   "outputs": [
    {
     "data": {
      "image/png": "[encoded data removed]",
      "text/plain": [
       "<Figure size 1000x600 with 1 Axes>"
      ]
     },
     "metadata": {},
     "output_type": "display_data"
    }
   ],
   "source": [
    "import matplotlib.pyplot as plt\n",
    "from matplotlib.pyplot import figure\n",
    "\n",
    "number_of_samples = range(1, len(X_test) + 1)\n",
    "figure(figsize=(10,6))\n",
    "plt.plot(number_of_samples, y_test,'b', marker = 's', markerfacecolor='none', linewidth = 1, label='pH Real')\n",
    "plt.plot(number_of_samples, rf_predict, 'r', marker = 'o', markerfacecolor='none', linestyle = 'dashed', linewidth = 1, label='pH Previsto')\n",
    "plt.xticks(np.arange(min(number_of_samples), max(number_of_samples), 2))\n",
    "plt.xlabel('Amostras', fontsize= 12)\n",
    "plt.ylabel('pH', fontsize= 12)\n",
    "\n",
    "plt.legend()\n",
    "\n",
    "plt.show()\n"
   ]
  }
 ],
 "metadata": {
  "kernelspec": {
   "display_name": "Python 3.9.13 ('dl2')",
   "language": "python",
   "name": "python3"
  },
  "language_info": {
   "codemirror_mode": {
    "name": "ipython",
    "version": 3
   },
   "file_extension": ".py",
   "mimetype": "text/x-python",
   "name": "python",
   "nbconvert_exporter": "python",
   "pygments_lexer": "ipython3",
   "version": "3.9.13"
  },
  "orig_nbformat": 4,
  "vscode": {
   "interpreter": {
    "hash": "eccc23d48a62043bd00c052d05deb9fa45ff1b47490812ca50f062e0ca50dba0"
   }
  }
 },
 "nbformat": 4,
 "nbformat_minor": 2
}
